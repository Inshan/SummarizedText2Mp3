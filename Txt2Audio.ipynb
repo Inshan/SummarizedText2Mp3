{
 "cells": [
  {
   "cell_type": "code",
   "execution_count": 2,
   "id": "1aaa71f9",
   "metadata": {},
   "outputs": [],
   "source": [
    "import tkinter as tk\n",
    "from tkinter import scrolledtext\n",
    "from transformers import pipeline\n",
    "from gtts import gTTS\n",
    "import pygame\n",
    "import os"
   ]
  },
  {
   "cell_type": "code",
   "execution_count": 3,
   "id": "81c9eded",
   "metadata": {},
   "outputs": [],
   "source": [
    "def summarize_paragraph(paragraph):\n",
    "    summarizer = pipeline(\"summarization\")\n",
    "    summary = summarizer(paragraph, max_length=150, min_length=30, do_sample=False)\n",
    "    return summary[0]['summary_text']"
   ]
  },
  {
   "cell_type": "code",
   "execution_count": 4,
   "id": "96bf7d08",
   "metadata": {},
   "outputs": [],
   "source": [
    "def text_to_audio(text, output_file):\n",
    "    tts = gTTS(text=text, lang='en')\n",
    "    tts.save(output_file)"
   ]
  },
  {
   "cell_type": "code",
   "execution_count": 5,
   "id": "6a3c9c79",
   "metadata": {},
   "outputs": [],
   "source": [
    "def play_audio(audio_file):\n",
    "    pygame.mixer.init()\n",
    "    pygame.mixer.music.load(audio_file)\n",
    "    pygame.mixer.music.play()\n",
    "    while pygame.mixer.music.get_busy():\n",
    "        continue"
   ]
  },
  {
   "cell_type": "code",
   "execution_count": 6,
   "id": "abc01bea",
   "metadata": {},
   "outputs": [],
   "source": [
    "def summarize_and_convert_to_audio():\n",
    "    paragraph = text_box.get(\"1.0\", tk.END)\n",
    "\n",
    "    summary = summarize_paragraph(paragraph)\n",
    "    summary_text.delete(\"1.0\", tk.END)\n",
    "    summary_text.insert(tk.END, summary)\n",
    "\n",
    "    audio_file = \"summary_audio.mp3\"\n",
    "    text_to_audio(summary, audio_file)\n",
    "\n",
    "    play_audio(audio_file)"
   ]
  },
  {
   "cell_type": "code",
   "execution_count": 7,
   "id": "bdef47ae",
   "metadata": {},
   "outputs": [
    {
     "data": {
      "text/plain": [
       "''"
      ]
     },
     "execution_count": 7,
     "metadata": {},
     "output_type": "execute_result"
    }
   ],
   "source": [
    "# Create GUI window\n",
    "root = tk.Tk()\n",
    "root.title(\"Paragraph Summarizer\")"
   ]
  },
  {
   "cell_type": "code",
   "execution_count": 8,
   "id": "3a0298e7",
   "metadata": {},
   "outputs": [],
   "source": [
    "# Create button to summarize and convert to audio\n",
    "summarize_button = tk.Button(root, text=\"Summarize & Convert to Audio\", command=summarize_and_convert_to_audio)\n",
    "summarize_button.pack(pady=5)"
   ]
  },
  {
   "cell_type": "code",
   "execution_count": 9,
   "id": "0ca2bbe5",
   "metadata": {},
   "outputs": [],
   "source": [
    "# Create text input box\n",
    "text_box = scrolledtext.ScrolledText(root, width=50, height=10, wrap=tk.WORD)\n",
    "text_box.pack(pady=10)"
   ]
  },
  {
   "cell_type": "code",
   "execution_count": null,
   "id": "1f09c49c",
   "metadata": {},
   "outputs": [],
   "source": [
    "# Create text output box for summary\n",
    "summary_text = scrolledtext.ScrolledText(root, width=50, height=10, wrap=tk.WORD)\n",
    "summary_text.pack(pady=10)\n",
    "\n",
    "root.mainloop()"
   ]
  }
 ],
 "metadata": {
  "kernelspec": {
   "display_name": "Python 3 (ipykernel)",
   "language": "python",
   "name": "python3"
  },
  "language_info": {
   "codemirror_mode": {
    "name": "ipython",
    "version": 3
   },
   "file_extension": ".py",
   "mimetype": "text/x-python",
   "name": "python",
   "nbconvert_exporter": "python",
   "pygments_lexer": "ipython3",
   "version": "3.9.7"
  }
 },
 "nbformat": 4,
 "nbformat_minor": 5
}
